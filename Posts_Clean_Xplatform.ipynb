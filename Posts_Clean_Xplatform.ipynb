{
 "cells": [
  {
   "cell_type": "code",
   "execution_count": 192,
   "id": "a88ab412-c417-48f5-a279-497dbc325967",
   "metadata": {},
   "outputs": [],
   "source": [
    "import pandas as pd\n",
    "# Importing Libraries\n",
    "import re\n",
    "import datetime"
   ]
  },
  {
   "cell_type": "code",
   "execution_count": 194,
   "id": "9d2f4651-871d-4c24-afbd-0822a4ff3473",
   "metadata": {},
   "outputs": [],
   "source": [
    "import warnings\n",
    "warnings.filterwarnings(\"ignore\", category=DeprecationWarning)\n",
    "warnings.filterwarnings(\"ignore\", category=FutureWarning)"
   ]
  },
  {
   "cell_type": "code",
   "execution_count": 54,
   "id": "f39232d7-f0f1-4427-a13e-6468f6c659d7",
   "metadata": {},
   "outputs": [],
   "source": [
    "#!pip install spacy"
   ]
  },
  {
   "cell_type": "code",
   "execution_count": 196,
   "id": "443022cb-8c18-4078-9067-eb6fd32afc36",
   "metadata": {},
   "outputs": [],
   "source": [
    "import regex as re\n",
    "import string"
   ]
  },
  {
   "cell_type": "code",
   "execution_count": 198,
   "id": "9132822c-0710-4d82-aa59-5a7133902383",
   "metadata": {},
   "outputs": [],
   "source": [
    "df=pd.read_csv(\"combined_cleaned_texts00.csv\")"
   ]
  },
  {
   "cell_type": "code",
   "execution_count": 200,
   "id": "2145dd72-708c-44d7-b6db-aa3f4bb07be6",
   "metadata": {},
   "outputs": [
    {
     "data": {
      "text/html": [
       "<div>\n",
       "<style scoped>\n",
       "    .dataframe tbody tr th:only-of-type {\n",
       "        vertical-align: middle;\n",
       "    }\n",
       "\n",
       "    .dataframe tbody tr th {\n",
       "        vertical-align: top;\n",
       "    }\n",
       "\n",
       "    .dataframe thead th {\n",
       "        text-align: right;\n",
       "    }\n",
       "</style>\n",
       "<table border=\"1\" class=\"dataframe\">\n",
       "  <thead>\n",
       "    <tr style=\"text-align: right;\">\n",
       "      <th></th>\n",
       "      <th>cleaned_text</th>\n",
       "    </tr>\n",
       "  </thead>\n",
       "  <tbody>\n",
       "    <tr>\n",
       "      <th>0</th>\n",
       "      <td>@S_H_188 @binsaad34 وليه ما ترقع قلبي وتابعني ...</td>\n",
       "    </tr>\n",
       "    <tr>\n",
       "      <th>1</th>\n",
       "      <td>@zakaboucetta @hanan_13_DZ_ من نيتك السعودية ع...</td>\n",
       "    </tr>\n",
       "    <tr>\n",
       "      <th>2</th>\n",
       "      <td>@NezamMahdawi روح تعطي بعيد انا جزائري وتحيا ا...</td>\n",
       "    </tr>\n",
       "    <tr>\n",
       "      <th>3</th>\n",
       "      <td>😅 الاثري البعير جايب هذا الثقبة لي داير روحو ي...</td>\n",
       "    </tr>\n",
       "    <tr>\n",
       "      <th>4</th>\n",
       "      <td>في الرياض! ❄️ فعاليات عالمية وتجارب فريدة وأما...</td>\n",
       "    </tr>\n",
       "  </tbody>\n",
       "</table>\n",
       "</div>"
      ],
      "text/plain": [
       "                                        cleaned_text\n",
       "0  @S_H_188 @binsaad34 وليه ما ترقع قلبي وتابعني ...\n",
       "1  @zakaboucetta @hanan_13_DZ_ من نيتك السعودية ع...\n",
       "2  @NezamMahdawi روح تعطي بعيد انا جزائري وتحيا ا...\n",
       "3  😅 الاثري البعير جايب هذا الثقبة لي داير روحو ي...\n",
       "4  في الرياض! ❄️ فعاليات عالمية وتجارب فريدة وأما..."
      ]
     },
     "execution_count": 200,
     "metadata": {},
     "output_type": "execute_result"
    }
   ],
   "source": [
    "df.head()"
   ]
  },
  {
   "cell_type": "code",
   "execution_count": 204,
   "id": "bfc51e8e-b69f-4750-b41f-22c7c0966f8c",
   "metadata": {},
   "outputs": [],
   "source": [
    "df['cleaned_text'] = df['cleaned_text'].astype(str)"
   ]
  },
  {
   "cell_type": "code",
   "execution_count": 206,
   "id": "f49a2fde-2b59-41c1-8125-213f390a7590",
   "metadata": {},
   "outputs": [],
   "source": [
    "df['cleaned_text'] = df['cleaned_text'].fillna('')"
   ]
  },
  {
   "cell_type": "code",
   "execution_count": 208,
   "id": "5423f59d-1650-48ba-ba9f-6a60283590b8",
   "metadata": {},
   "outputs": [
    {
     "data": {
      "text/html": [
       "<div>\n",
       "<style scoped>\n",
       "    .dataframe tbody tr th:only-of-type {\n",
       "        vertical-align: middle;\n",
       "    }\n",
       "\n",
       "    .dataframe tbody tr th {\n",
       "        vertical-align: top;\n",
       "    }\n",
       "\n",
       "    .dataframe thead th {\n",
       "        text-align: right;\n",
       "    }\n",
       "</style>\n",
       "<table border=\"1\" class=\"dataframe\">\n",
       "  <thead>\n",
       "    <tr style=\"text-align: right;\">\n",
       "      <th></th>\n",
       "      <th>cleaned_text</th>\n",
       "    </tr>\n",
       "  </thead>\n",
       "  <tbody>\n",
       "    <tr>\n",
       "      <th>0</th>\n",
       "      <td>وليه ما ترقع قلبي وتابعني ترد فيني روح السعو...</td>\n",
       "    </tr>\n",
       "    <tr>\n",
       "      <th>1</th>\n",
       "      <td>من نيتك السعودية عندها افشل نظام تعليمي روح ...</td>\n",
       "    </tr>\n",
       "    <tr>\n",
       "      <th>2</th>\n",
       "      <td>روح تعطي بعيد انا جزائري وتحيا السعودية وطز ف...</td>\n",
       "    </tr>\n",
       "    <tr>\n",
       "      <th>3</th>\n",
       "      <td>😅 الاثري البعير جايب هذا الثقبة لي داير روحو ي...</td>\n",
       "    </tr>\n",
       "    <tr>\n",
       "      <th>4</th>\n",
       "      <td>في الرياض ❄️ فعاليات عالمية وتجارب فريدة وأماك...</td>\n",
       "    </tr>\n",
       "    <tr>\n",
       "      <th>...</th>\n",
       "      <td>...</td>\n",
       "    </tr>\n",
       "    <tr>\n",
       "      <th>1044</th>\n",
       "      <td>الفنادق ارخص والمنتجعات بعد وفيها بحر وتغيير ...</td>\n",
       "    </tr>\n",
       "    <tr>\n",
       "      <th>1045</th>\n",
       "      <td>صباحًا    تشكل السحب المنخفضة أو الضباب على أ...</td>\n",
       "    </tr>\n",
       "    <tr>\n",
       "      <th>1046</th>\n",
       "      <td>تقريباً اهل الشرقيه كلهم حالياً ف بحر الراكه</td>\n",
       "    </tr>\n",
       "    <tr>\n",
       "      <th>1047</th>\n",
       "      <td>اعتقد قرب المسافة والاسعار والبحرين من زمان ت...</td>\n",
       "    </tr>\n",
       "    <tr>\n",
       "      <th>1048</th>\n",
       "      <td>♦️ الأرصاد العُمانيّة  ⚠️تنبيه فرص تشكل السحب ...</td>\n",
       "    </tr>\n",
       "  </tbody>\n",
       "</table>\n",
       "<p>1049 rows × 1 columns</p>\n",
       "</div>"
      ],
      "text/plain": [
       "                                           cleaned_text\n",
       "0       وليه ما ترقع قلبي وتابعني ترد فيني روح السعو...\n",
       "1       من نيتك السعودية عندها افشل نظام تعليمي روح ...\n",
       "2      روح تعطي بعيد انا جزائري وتحيا السعودية وطز ف...\n",
       "3     😅 الاثري البعير جايب هذا الثقبة لي داير روحو ي...\n",
       "4     في الرياض ❄️ فعاليات عالمية وتجارب فريدة وأماك...\n",
       "...                                                 ...\n",
       "1044   الفنادق ارخص والمنتجعات بعد وفيها بحر وتغيير ...\n",
       "1045   صباحًا    تشكل السحب المنخفضة أو الضباب على أ...\n",
       "1046       تقريباً اهل الشرقيه كلهم حالياً ف بحر الراكه\n",
       "1047   اعتقد قرب المسافة والاسعار والبحرين من زمان ت...\n",
       "1048  ♦️ الأرصاد العُمانيّة  ⚠️تنبيه فرص تشكل السحب ...\n",
       "\n",
       "[1049 rows x 1 columns]"
      ]
     },
     "execution_count": 208,
     "metadata": {},
     "output_type": "execute_result"
    }
   ],
   "source": [
    "# remove english numbers\n",
    "df['cleaned_text'] = df['cleaned_text'].apply(lambda x: re.sub(r'[0-9]+', '', x))\n",
    "\n",
    "# remove english letters\n",
    "df['cleaned_text'] = df['cleaned_text'].apply(lambda x: re.sub(r'[a-zA-Z]', '', x))\n",
    "\n",
    "# remove a special character _\n",
    "df['cleaned_text'] = df['cleaned_text'].apply(lambda x: re.sub(r'[_]+', '', x))\n",
    "\n",
    "# remove punctuations\n",
    "arabic_punctuations = '''`÷×؛<>_()*&^%][ـ،/:\"؟.,'{}~¦+|!”…“–ـ'''\n",
    "english_punctuations = string.punctuation\n",
    "punctuations_list = arabic_punctuations + english_punctuations\n",
    "df['cleaned_text'] = df['cleaned_text'].apply(lambda x: x.translate(str.maketrans(' ', ' ', punctuations_list)))\n",
    "\n",
    "\n",
    "# remove newline characters\n",
    "df['cleaned_text'] = df['cleaned_text'].apply(lambda x: x.replace(\"\\n\", \"  \"))\n",
    "df"
   ]
  },
  {
   "cell_type": "code",
   "execution_count": 210,
   "id": "f44725c4-cda7-457f-bbca-14cfec106e36",
   "metadata": {},
   "outputs": [],
   "source": [
    "df.to_csv('Fnail_Result_Cleaning.csv', index=False,encoding='utf-8-sig')"
   ]
  }
 ],
 "metadata": {
  "kernelspec": {
   "display_name": "Python 3 (ipykernel)",
   "language": "python",
   "name": "python3"
  },
  "language_info": {
   "codemirror_mode": {
    "name": "ipython",
    "version": 3
   },
   "file_extension": ".py",
   "mimetype": "text/x-python",
   "name": "python",
   "nbconvert_exporter": "python",
   "pygments_lexer": "ipython3",
   "version": "3.12.4"
  }
 },
 "nbformat": 4,
 "nbformat_minor": 5
}
